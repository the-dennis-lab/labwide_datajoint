{
 "cells": [
  {
   "cell_type": "markdown",
   "id": "bf0503ae",
   "metadata": {},
   "source": [
    "# purpose\n",
    "\n",
    "- record steps and missteps in setting up dj for lab"
   ]
  },
  {
   "cell_type": "markdown",
   "id": "e42f0005",
   "metadata": {},
   "source": [
    "# imports"
   ]
  },
  {
   "cell_type": "code",
   "execution_count": 3,
   "id": "51dca56b",
   "metadata": {},
   "outputs": [
    {
     "ename": "ModuleNotFoundError",
     "evalue": "No module named 'datajoint'",
     "output_type": "error",
     "traceback": [
      "\u001b[1;31m---------------------------------------------------------------------------\u001b[0m",
      "\u001b[1;31mModuleNotFoundError\u001b[0m                       Traceback (most recent call last)",
      "Input \u001b[1;32mIn [3]\u001b[0m, in \u001b[0;36m<cell line: 1>\u001b[1;34m()\u001b[0m\n\u001b[1;32m----> 1\u001b[0m \u001b[38;5;28;01mimport\u001b[39;00m \u001b[38;5;21;01mdatajoint\u001b[39;00m \u001b[38;5;28;01mas\u001b[39;00m \u001b[38;5;21;01mdj\u001b[39;00m\n\u001b[0;32m      2\u001b[0m \u001b[38;5;28;01mimport\u001b[39;00m \u001b[38;5;21;01mglob\u001b[39;00m\u001b[38;5;241m,\u001b[39m \u001b[38;5;21;01mos\u001b[39;00m\u001b[38;5;241m,\u001b[39m \u001b[38;5;21;01msys\u001b[39;00m\n\u001b[0;32m      3\u001b[0m \u001b[38;5;28;01mimport\u001b[39;00m \u001b[38;5;21;01mmatplotlib\u001b[39;00m\u001b[38;5;21;01m.\u001b[39;00m\u001b[38;5;21;01mpyplot\u001b[39;00m \u001b[38;5;28;01mas\u001b[39;00m \u001b[38;5;21;01mplt\u001b[39;00m\n",
      "\u001b[1;31mModuleNotFoundError\u001b[0m: No module named 'datajoint'"
     ]
    }
   ],
   "source": [
    "import datajoint as dj\n",
    "import glob, os, sys\n",
    "import matplotlib.pyplot as plt\n",
    "import pandas as pd\n",
    "import numpy as np"
   ]
  },
  {
   "cell_type": "markdown",
   "id": "aafc4031",
   "metadata": {},
   "source": [
    "# procedure"
   ]
  },
  {
   "cell_type": "code",
   "execution_count": 2,
   "id": "b7e607f7",
   "metadata": {},
   "outputs": [
    {
     "ename": "NameError",
     "evalue": "name 'dj' is not defined",
     "output_type": "error",
     "traceback": [
      "\u001b[1;31m---------------------------------------------------------------------------\u001b[0m",
      "\u001b[1;31mNameError\u001b[0m                                 Traceback (most recent call last)",
      "Input \u001b[1;32mIn [2]\u001b[0m, in \u001b[0;36m<cell line: 1>\u001b[1;34m()\u001b[0m\n\u001b[1;32m----> 1\u001b[0m \u001b[43mdj\u001b[49m\u001b[38;5;241m.\u001b[39mconfig[\u001b[38;5;124m'\u001b[39m\u001b[38;5;124mdatabase.host\u001b[39m\u001b[38;5;124m'\u001b[39m] \u001b[38;5;241m=\u001b[39m \u001b[38;5;124m'\u001b[39m\u001b[38;5;124mvm7146.int.janelia.org\u001b[39m\u001b[38;5;124m'\u001b[39m\n\u001b[0;32m      2\u001b[0m dj\u001b[38;5;241m.\u001b[39mconfig[\u001b[38;5;124m'\u001b[39m\u001b[38;5;124mdatabase.password\u001b[39m\u001b[38;5;124m'\u001b[39m] \u001b[38;5;241m=\u001b[39m \u001b[38;5;124m'\u001b[39m\u001b[38;5;124mnq7^rGqt$jWuJm2M\u001b[39m\u001b[38;5;124m'\u001b[39m\n\u001b[0;32m      3\u001b[0m dj\u001b[38;5;241m.\u001b[39mconfig[\u001b[38;5;124m'\u001b[39m\u001b[38;5;124mdatabase.user\u001b[39m\u001b[38;5;124m'\u001b[39m] \u001b[38;5;241m=\u001b[39m \u001b[38;5;124m'\u001b[39m\u001b[38;5;124mdjAdmin\u001b[39m\u001b[38;5;124m'\u001b[39m\n",
      "\u001b[1;31mNameError\u001b[0m: name 'dj' is not defined"
     ]
    }
   ],
   "source": [
    "dj.config['database.host'] = 'vm7146.int.janelia.org'\n",
    "dj.config['database.password'] = 'nq7^rGqt$jWuJm2M'\n",
    "dj.config['database.user'] = 'djAdmin'\n",
    "dj.conn(use_TLS=False)"
   ]
  },
  {
   "cell_type": "code",
   "execution_count": 7,
   "id": "62e6eaf8",
   "metadata": {},
   "outputs": [
    {
     "name": "stdout",
     "output_type": "stream",
     "text": [
      "PING vm7146.int.janelia.org (10.37.7.146) 56(84) bytes of data.\n",
      "64 bytes from vm7146.int.janelia.org (10.37.7.146): icmp_seq=1 ttl=63 time=0.600 ms\n",
      "64 bytes from vm7146.int.janelia.org (10.37.7.146): icmp_seq=2 ttl=63 time=0.261 ms\n",
      "64 bytes from vm7146.int.janelia.org (10.37.7.146): icmp_seq=3 ttl=63 time=0.349 ms\n",
      "64 bytes from vm7146.int.janelia.org (10.37.7.146): icmp_seq=4 ttl=63 time=0.211 ms\n",
      "^C\n",
      "\n",
      "--- vm7146.int.janelia.org ping statistics ---\n",
      "4 packets transmitted, 4 received, 0% packet loss, time 3056ms\n",
      "rtt min/avg/max/mdev = 0.211/0.355/0.600/0.149 ms\n"
     ]
    }
   ],
   "source": [
    "#debug by testing connection - requires manual stop\n",
    "!ping vm7146.int.janelia.org"
   ]
  },
  {
   "cell_type": "code",
   "execution_count": 12,
   "id": "7b1c46ca",
   "metadata": {},
   "outputs": [
    {
     "data": {
      "text/plain": [
       "DataJoint connection (connected) djAdmin@vm7146.int.janelia.org:3306"
      ]
     },
     "execution_count": 12,
     "metadata": {},
     "output_type": "execute_result"
    }
   ],
   "source": [
    "# connecting to the vm is possible, so trying an alt dj.conn call\n",
    "dj.config['database.host'] = 'vm7146.int.janelia.org'\n",
    "dj.config['database.password'] = 'nq7^rGqt$jWuJm2M'\n",
    "dj.config['database.user'] = 'djAdmin'\n",
    "dj.conn(use_tls=False)"
   ]
  },
  {
   "cell_type": "code",
   "execution_count": 13,
   "id": "e43698e7",
   "metadata": {},
   "outputs": [],
   "source": [
    "#using tutorial from tutorials.datajoint.io/beginner/building-first-pipeline/python/first-table.html, which only opens in microsoft edge browser for me 2022/08/10\n",
    "schema = dj.schema('ejd_tutorial',locals())\n",
    "# adding the locals() allows us to see all other tables created and call them simply by their name"
   ]
  },
  {
   "cell_type": "code",
   "execution_count": 14,
   "id": "8354876b",
   "metadata": {},
   "outputs": [],
   "source": [
    "#ok let's use the schema object to create a new table, mouse\n",
    "# we \"decorate\" the class Mouse with the schema object, meaning that Mouse table is specified inside the schema object that points to tutorial.\n",
    "# we use dj.Manual because we're going to manually enter this info\n",
    "# the # mouse line gives us space for a reader-friendly comment about what the table is/contains\n",
    "# the rest is formatted as attribute: datatype # comment\n",
    "# the --- separates primary keys (UNIQUE identifiers) and secondary keys (can be repeated)\n",
    "@schema\n",
    "class Mouse(dj.Manual):\n",
    "    definition = \"\"\"\n",
    "    # mouse\n",
    "    mouse_id: int    #unique mouse id, an integer\n",
    "    ---\n",
    "    dob: date   #mouse date of birth, a date \n",
    "    sex_gonadal: enum('M','F','I','U') #gonadal sex, male, female, intersex, unclassified or unknown\n",
    "    \"\"\""
   ]
  },
  {
   "cell_type": "code",
   "execution_count": 16,
   "id": "e286c773",
   "metadata": {},
   "outputs": [],
   "source": [
    "mouse = Mouse()\n",
    "mouse.insert1( (0,'2022-08-10','F'))"
   ]
  },
  {
   "cell_type": "code",
   "execution_count": 17,
   "id": "b4fb54c0",
   "metadata": {},
   "outputs": [
    {
     "data": {
      "text/html": [
       "\n",
       "    \n",
       "    <style type=\"text/css\">\n",
       "        .Relation{\n",
       "            border-collapse:collapse;\n",
       "        }\n",
       "        .Relation th{\n",
       "            background: #A0A0A0; color: #ffffff; padding:4px; border:#f0e0e0 1px solid;\n",
       "            font-weight: normal; font-family: monospace; font-size: 100%;\n",
       "        }\n",
       "        .Relation td{\n",
       "            padding:4px; border:#f0e0e0 1px solid; font-size:100%;\n",
       "        }\n",
       "        .Relation tr:nth-child(odd){\n",
       "            background: #ffffff;\n",
       "        }\n",
       "        .Relation tr:nth-child(even){\n",
       "            background: #f3f1ff;\n",
       "        }\n",
       "        /* Tooltip container */\n",
       "        .djtooltip {\n",
       "        }\n",
       "        /* Tooltip text */\n",
       "        .djtooltip .djtooltiptext {\n",
       "            visibility: hidden;\n",
       "            width: 120px;\n",
       "            background-color: black;\n",
       "            color: #fff;\n",
       "            text-align: center;\n",
       "            padding: 5px 0;\n",
       "            border-radius: 6px;\n",
       "            /* Position the tooltip text - see examples below! */\n",
       "            position: absolute;\n",
       "            z-index: 1;\n",
       "        }\n",
       "        #primary {\n",
       "            font-weight: bold;\n",
       "            color: black;\n",
       "        }\n",
       "        #nonprimary {\n",
       "            font-weight: normal;\n",
       "            color: white;\n",
       "        }\n",
       "\n",
       "        /* Show the tooltip text when you mouse over the tooltip container */\n",
       "        .djtooltip:hover .djtooltiptext {\n",
       "            visibility: visible;\n",
       "        }\n",
       "    </style>\n",
       "    \n",
       "    <b>mouse</b>\n",
       "        <div style=\"max-height:1000px;max-width:1500px;overflow:auto;\">\n",
       "        <table border=\"1\" class=\"Relation\">\n",
       "            <thead> <tr style=\"text-align: right;\"> <th> <div class=\"djtooltip\">\n",
       "                            <p id=\"primary\">mouse_id</p>\n",
       "                            <span class=\"djtooltiptext\">unique mouse id, an integer</span>\n",
       "                        </div></th><th><div class=\"djtooltip\">\n",
       "                            <p id=\"nonprimary\">dob</p>\n",
       "                            <span class=\"djtooltiptext\">mouse date of birth, a date</span>\n",
       "                        </div></th><th><div class=\"djtooltip\">\n",
       "                            <p id=\"nonprimary\">sex_gonadal</p>\n",
       "                            <span class=\"djtooltiptext\">gonadal sex, male, female, intersex, unclassified or unknown</span>\n",
       "                        </div> </th> </tr> </thead>\n",
       "            <tbody> <tr> <td>0</td>\n",
       "<td>2022-08-10</td>\n",
       "<td>F</td> </tr> </tbody>\n",
       "        </table>\n",
       "        \n",
       "        <p>Total: 1</p></div>\n",
       "        "
      ],
      "text/plain": [
       "*mouse_id    dob            sex_gonadal   \n",
       "+----------+ +------------+ +------------+\n",
       "0            2022-08-10     F             \n",
       " (Total: 1)"
      ]
     },
     "execution_count": 17,
     "metadata": {},
     "output_type": "execute_result"
    }
   ],
   "source": [
    "mouse"
   ]
  },
  {
   "cell_type": "code",
   "execution_count": 20,
   "id": "14b412b4",
   "metadata": {},
   "outputs": [],
   "source": [
    "data_dict = {\n",
    "    'mouse_id': 1,\n",
    "    'dob': '2022-08-10',\n",
    "    'sex_gonadal':'U'\n",
    "}"
   ]
  },
  {
   "cell_type": "code",
   "execution_count": 21,
   "id": "99fe55e4",
   "metadata": {},
   "outputs": [],
   "source": [
    "mouse.insert1(data_dict)"
   ]
  },
  {
   "cell_type": "code",
   "execution_count": 22,
   "id": "966c7bf8",
   "metadata": {},
   "outputs": [
    {
     "data": {
      "text/html": [
       "\n",
       "    \n",
       "    <style type=\"text/css\">\n",
       "        .Relation{\n",
       "            border-collapse:collapse;\n",
       "        }\n",
       "        .Relation th{\n",
       "            background: #A0A0A0; color: #ffffff; padding:4px; border:#f0e0e0 1px solid;\n",
       "            font-weight: normal; font-family: monospace; font-size: 100%;\n",
       "        }\n",
       "        .Relation td{\n",
       "            padding:4px; border:#f0e0e0 1px solid; font-size:100%;\n",
       "        }\n",
       "        .Relation tr:nth-child(odd){\n",
       "            background: #ffffff;\n",
       "        }\n",
       "        .Relation tr:nth-child(even){\n",
       "            background: #f3f1ff;\n",
       "        }\n",
       "        /* Tooltip container */\n",
       "        .djtooltip {\n",
       "        }\n",
       "        /* Tooltip text */\n",
       "        .djtooltip .djtooltiptext {\n",
       "            visibility: hidden;\n",
       "            width: 120px;\n",
       "            background-color: black;\n",
       "            color: #fff;\n",
       "            text-align: center;\n",
       "            padding: 5px 0;\n",
       "            border-radius: 6px;\n",
       "            /* Position the tooltip text - see examples below! */\n",
       "            position: absolute;\n",
       "            z-index: 1;\n",
       "        }\n",
       "        #primary {\n",
       "            font-weight: bold;\n",
       "            color: black;\n",
       "        }\n",
       "        #nonprimary {\n",
       "            font-weight: normal;\n",
       "            color: white;\n",
       "        }\n",
       "\n",
       "        /* Show the tooltip text when you mouse over the tooltip container */\n",
       "        .djtooltip:hover .djtooltiptext {\n",
       "            visibility: visible;\n",
       "        }\n",
       "    </style>\n",
       "    \n",
       "    <b>mouse</b>\n",
       "        <div style=\"max-height:1000px;max-width:1500px;overflow:auto;\">\n",
       "        <table border=\"1\" class=\"Relation\">\n",
       "            <thead> <tr style=\"text-align: right;\"> <th> <div class=\"djtooltip\">\n",
       "                            <p id=\"primary\">mouse_id</p>\n",
       "                            <span class=\"djtooltiptext\">unique mouse id, an integer</span>\n",
       "                        </div></th><th><div class=\"djtooltip\">\n",
       "                            <p id=\"nonprimary\">dob</p>\n",
       "                            <span class=\"djtooltiptext\">mouse date of birth, a date</span>\n",
       "                        </div></th><th><div class=\"djtooltip\">\n",
       "                            <p id=\"nonprimary\">sex_gonadal</p>\n",
       "                            <span class=\"djtooltiptext\">gonadal sex, male, female, intersex, unclassified or unknown</span>\n",
       "                        </div> </th> </tr> </thead>\n",
       "            <tbody> <tr> <td>0</td>\n",
       "<td>2022-08-10</td>\n",
       "<td>F</td></tr><tr><td>1</td>\n",
       "<td>2022-08-10</td>\n",
       "<td>U</td> </tr> </tbody>\n",
       "        </table>\n",
       "        \n",
       "        <p>Total: 2</p></div>\n",
       "        "
      ],
      "text/plain": [
       "*mouse_id    dob            sex_gonadal   \n",
       "+----------+ +------------+ +------------+\n",
       "0            2022-08-10     F             \n",
       "1            2022-08-10     U             \n",
       " (Total: 2)"
      ]
     },
     "execution_count": 22,
     "metadata": {},
     "output_type": "execute_result"
    }
   ],
   "source": [
    "mouse"
   ]
  },
  {
   "cell_type": "code",
   "execution_count": 23,
   "id": "5b2c9732",
   "metadata": {},
   "outputs": [
    {
     "data": {
      "text/html": [
       "\n",
       "    \n",
       "    <style type=\"text/css\">\n",
       "        .Relation{\n",
       "            border-collapse:collapse;\n",
       "        }\n",
       "        .Relation th{\n",
       "            background: #A0A0A0; color: #ffffff; padding:4px; border:#f0e0e0 1px solid;\n",
       "            font-weight: normal; font-family: monospace; font-size: 100%;\n",
       "        }\n",
       "        .Relation td{\n",
       "            padding:4px; border:#f0e0e0 1px solid; font-size:100%;\n",
       "        }\n",
       "        .Relation tr:nth-child(odd){\n",
       "            background: #ffffff;\n",
       "        }\n",
       "        .Relation tr:nth-child(even){\n",
       "            background: #f3f1ff;\n",
       "        }\n",
       "        /* Tooltip container */\n",
       "        .djtooltip {\n",
       "        }\n",
       "        /* Tooltip text */\n",
       "        .djtooltip .djtooltiptext {\n",
       "            visibility: hidden;\n",
       "            width: 120px;\n",
       "            background-color: black;\n",
       "            color: #fff;\n",
       "            text-align: center;\n",
       "            padding: 5px 0;\n",
       "            border-radius: 6px;\n",
       "            /* Position the tooltip text - see examples below! */\n",
       "            position: absolute;\n",
       "            z-index: 1;\n",
       "        }\n",
       "        #primary {\n",
       "            font-weight: bold;\n",
       "            color: black;\n",
       "        }\n",
       "        #nonprimary {\n",
       "            font-weight: normal;\n",
       "            color: white;\n",
       "        }\n",
       "\n",
       "        /* Show the tooltip text when you mouse over the tooltip container */\n",
       "        .djtooltip:hover .djtooltiptext {\n",
       "            visibility: visible;\n",
       "        }\n",
       "    </style>\n",
       "    \n",
       "    <b>mouse</b>\n",
       "        <div style=\"max-height:1000px;max-width:1500px;overflow:auto;\">\n",
       "        <table border=\"1\" class=\"Relation\">\n",
       "            <thead> <tr style=\"text-align: right;\"> <th> <div class=\"djtooltip\">\n",
       "                            <p id=\"primary\">mouse_id</p>\n",
       "                            <span class=\"djtooltiptext\">unique mouse id, an integer</span>\n",
       "                        </div></th><th><div class=\"djtooltip\">\n",
       "                            <p id=\"nonprimary\">dob</p>\n",
       "                            <span class=\"djtooltiptext\">mouse date of birth, a date</span>\n",
       "                        </div></th><th><div class=\"djtooltip\">\n",
       "                            <p id=\"nonprimary\">sex_gonadal</p>\n",
       "                            <span class=\"djtooltiptext\">gonadal sex, male, female, intersex, unclassified or unknown</span>\n",
       "                        </div> </th> </tr> </thead>\n",
       "            <tbody> <tr> <td>0</td>\n",
       "<td>2022-08-10</td>\n",
       "<td>F</td></tr><tr><td>1</td>\n",
       "<td>2022-08-10</td>\n",
       "<td>U</td></tr><tr><td>2</td>\n",
       "<td>2022-08-10</td>\n",
       "<td>M</td></tr><tr><td>3</td>\n",
       "<td>2022-08-10</td>\n",
       "<td>I</td> </tr> </tbody>\n",
       "        </table>\n",
       "        \n",
       "        <p>Total: 4</p></div>\n",
       "        "
      ],
      "text/plain": [
       "*mouse_id    dob            sex_gonadal   \n",
       "+----------+ +------------+ +------------+\n",
       "0            2022-08-10     F             \n",
       "1            2022-08-10     U             \n",
       "2            2022-08-10     M             \n",
       "3            2022-08-10     I             \n",
       " (Total: 4)"
      ]
     },
     "execution_count": 23,
     "metadata": {},
     "output_type": "execute_result"
    }
   ],
   "source": [
    "data_dict_2 =  {\n",
    "    'mouse_id': 2,\n",
    "    'dob': '2022-08-10',\n",
    "    'sex_gonadal':'M'\n",
    "}\n",
    "data_dict_3 =  {\n",
    "    'mouse_id': 3,\n",
    "    'dob': '2022-08-10',\n",
    "    'sex_gonadal':'I'\n",
    "}\n",
    "mouse.insert([data_dict_2,data_dict_3])\n",
    "mouse"
   ]
  },
  {
   "cell_type": "markdown",
   "id": "767df4ab",
   "metadata": {},
   "source": [
    "# Borrowed from Brody and IBL"
   ]
  },
  {
   "cell_type": "code",
   "execution_count": 27,
   "id": "f21ab244",
   "metadata": {},
   "outputs": [],
   "source": [
    "# add graphviz to path, taken from https://github.com/Brody-Lab/bl_pipeline_python/blob/main/notebooks/00-Datajoint-configuration.ipynb\n",
    "if os.name == 'nt':\n",
    "    if 'C:\\\\Program Files\\\\Graphviz\\\\bin' not in os.environ[\"PATH\"]:\n",
    "        os.environ[\"PATH\"] += ';C:\\\\Program Files\\\\Graphviz\\\\bin'"
   ]
  },
  {
   "cell_type": "code",
   "execution_count": 28,
   "id": "c7dc653c",
   "metadata": {},
   "outputs": [],
   "source": [
    "# prefixes are useful - like dennis_\n",
    "\n",
    "\n",
    "if 'custom' not in dj.config:\n",
    "    dj.config['custom'] = dict()\n",
    "dj.config['custom']['database.prefix'] = 'bl_new_'\n",
    "dj.config.save_local() #should make dj_local_conf.json"
   ]
  },
  {
   "cell_type": "code",
   "execution_count": 32,
   "id": "b66788c5",
   "metadata": {},
   "outputs": [],
   "source": [
    "# later we can make this into a standalone file in a repo, and import it\n",
    "\n",
    "import os\n",
    "import pathlib\n",
    "\n",
    "def chdir_to_root():\n",
    "\n",
    "    root_dir_found = 0\n",
    "    conf_file_found = 0\n",
    "    while 1:\n",
    "        current_dir = os.getcwd()\n",
    "        u19_dir = pathlib.Path(current_dir,'bl_pipeline')\n",
    "        if os.path.isdir(u19_dir):\n",
    "            root_dir_found = 1\n",
    "            if os.path.isfile(pathlib.Path(current_dir,'dj_local_conf.json')):\n",
    "                conf_file_found = 1\n",
    "        if root_dir_found:\n",
    "            break\n",
    "        os.chdir('..')\n",
    "        new_current_dir = os.getcwd()\n",
    "        if str(current_dir) == str(new_current_dir):\n",
    "            break\n",
    "\n",
    "    return root_dir_found, conf_file_found\n",
    "\n",
    "\n",
    "def try_find_conf_file():\n",
    "\n",
    "    root_dir_found, conf_file_found = chdir_to_root()\n",
    "    if root_dir_found and conf_file_found:\n",
    "        print('Local configuration file found !!, no need to run the configuration (unless configuration has changed)')\n",
    "    elif root_dir_found:\n",
    "        print('Local configuration file not found. Ignore this if you have a global config. Run configuration notebook otherwise')\n",
    "    else:\n",
    "        print('Root dir not found, change this notebook to the project folder')"
   ]
  },
  {
   "cell_type": "markdown",
   "id": "753ea583",
   "metadata": {},
   "source": [
    "### useful bits but not particularly useful here during setup\n",
    "\n",
    "from scripts.conf_file_finding import try_find_conf_file\n",
    "try_find_conf_file()\n",
    "import getpass\n",
    "dj.config['database.password'] = getpass.getpass() # enter the password securely\n",
    "\n",
    "https://github.com/Brody-Lab/bl_pipeline_python/blob/main/notebooks/tutorials/Explore_Sessions_Data.ipynb"
   ]
  },
  {
   "cell_type": "markdown",
   "id": "6a05d759",
   "metadata": {},
   "source": [
    "# return to procedure"
   ]
  },
  {
   "cell_type": "code",
   "execution_count": 55,
   "id": "09bdd765",
   "metadata": {},
   "outputs": [
    {
     "name": "stdout",
     "output_type": "stream",
     "text": [
      "WARNING invalid path,  does not exist\n",
      "saving table at tutorial_tables.py\n"
     ]
    }
   ],
   "source": [
    "# defining a table module\n",
    "# this is making a .py file that is read as a module in python so we can import our tables\n",
    "\n",
    "\n",
    "for_file = [\"import datajoint as dj\",\n",
    "            \"schema = dj.schema('tutorial',locals())\",    \n",
    "            \"@schema\",\"class Mouse(dj.Manual):\",\n",
    "            \"    definition = \\\"\\\"\\\"\",\n",
    "            \"    # mouse\",\n",
    "            \"    mouse_id: int    #unique mouse id, an integer\",\n",
    "            \"    ---\",\n",
    "            \"    dob: date   #mouse date of birth, a date\", \n",
    "            \"    sex_gonadal: enum('M','F','I','U') #gonadal sex, male, female, intersex, unclassified or unknown\\\"\\\"\\\"\"]\n",
    "\n",
    "\n",
    "def make_table_def_as_file(file_loc,table_data):\n",
    "    \"\"\" takes a location and a list of lines to write to a table .py file\"\"\"\n",
    "    if not os.path.exists(os.path.dirname(file_loc)):\n",
    "        print(\"WARNING invalid path, {} does not exist\".format(os.path.dirname(file_loc)))\n",
    "    if \"py\" not in file_loc:\n",
    "        print(\"adding .py to file_loc\")\n",
    "        file_loc = \"{}.py\".format(file_loc)\n",
    "    print(\"saving table at {}\".format(file_loc))\n",
    "    with open(file_loc,\"w\") as f:\n",
    "        for line in table_data:\n",
    "            f.write(\"{}\\n\".format(line))\n",
    "        f.close()\n",
    "        \n",
    "file_loc = 'tutorial_tables.py'\n",
    "make_table_def_as_file(file_loc,for_file)"
   ]
  },
  {
   "cell_type": "code",
   "execution_count": 56,
   "id": "5cd04622",
   "metadata": {},
   "outputs": [],
   "source": [
    "from tutorial_tables import *"
   ]
  },
  {
   "cell_type": "code",
   "execution_count": 57,
   "id": "01809e8d",
   "metadata": {},
   "outputs": [
    {
     "data": {
      "text/plain": [
       "array([(0, datetime.date(2022, 8, 10), 'F'),\n",
       "       (1, datetime.date(2022, 8, 10), 'U'),\n",
       "       (2, datetime.date(2022, 8, 10), 'M'),\n",
       "       (3, datetime.date(2022, 8, 10), 'I')],\n",
       "      dtype=[('mouse_id', '<i8'), ('dob', 'O'), ('sex_gonadal', 'O')])"
      ]
     },
     "execution_count": 57,
     "metadata": {},
     "output_type": "execute_result"
    }
   ],
   "source": [
    "# fetch some data\n",
    "data = mouse.fetch()\n",
    "data"
   ]
  },
  {
   "cell_type": "code",
   "execution_count": 58,
   "id": "e85ffcec",
   "metadata": {},
   "outputs": [
    {
     "data": {
      "text/plain": [
       "[{'mouse_id': 0, 'dob': datetime.date(2022, 8, 10), 'sex_gonadal': 'F'},\n",
       " {'mouse_id': 1, 'dob': datetime.date(2022, 8, 10), 'sex_gonadal': 'U'},\n",
       " {'mouse_id': 2, 'dob': datetime.date(2022, 8, 10), 'sex_gonadal': 'M'},\n",
       " {'mouse_id': 3, 'dob': datetime.date(2022, 8, 10), 'sex_gonadal': 'I'}]"
      ]
     },
     "execution_count": 58,
     "metadata": {},
     "output_type": "execute_result"
    }
   ],
   "source": [
    "# fetch some data as a dict\n",
    "data = mouse.fetch(as_dict=True)\n",
    "data"
   ]
  },
  {
   "cell_type": "code",
   "execution_count": 62,
   "id": "51548e11",
   "metadata": {},
   "outputs": [
    {
     "name": "stdout",
     "output_type": "stream",
     "text": [
      "['F' 'U' 'M' 'I'] [0 1 2 3]\n"
     ]
    },
    {
     "data": {
      "text/html": [
       "\n",
       "    \n",
       "    <style type=\"text/css\">\n",
       "        .Relation{\n",
       "            border-collapse:collapse;\n",
       "        }\n",
       "        .Relation th{\n",
       "            background: #A0A0A0; color: #ffffff; padding:4px; border:#f0e0e0 1px solid;\n",
       "            font-weight: normal; font-family: monospace; font-size: 100%;\n",
       "        }\n",
       "        .Relation td{\n",
       "            padding:4px; border:#f0e0e0 1px solid; font-size:100%;\n",
       "        }\n",
       "        .Relation tr:nth-child(odd){\n",
       "            background: #ffffff;\n",
       "        }\n",
       "        .Relation tr:nth-child(even){\n",
       "            background: #f3f1ff;\n",
       "        }\n",
       "        /* Tooltip container */\n",
       "        .djtooltip {\n",
       "        }\n",
       "        /* Tooltip text */\n",
       "        .djtooltip .djtooltiptext {\n",
       "            visibility: hidden;\n",
       "            width: 120px;\n",
       "            background-color: black;\n",
       "            color: #fff;\n",
       "            text-align: center;\n",
       "            padding: 5px 0;\n",
       "            border-radius: 6px;\n",
       "            /* Position the tooltip text - see examples below! */\n",
       "            position: absolute;\n",
       "            z-index: 1;\n",
       "        }\n",
       "        #primary {\n",
       "            font-weight: bold;\n",
       "            color: black;\n",
       "        }\n",
       "        #nonprimary {\n",
       "            font-weight: normal;\n",
       "            color: white;\n",
       "        }\n",
       "\n",
       "        /* Show the tooltip text when you mouse over the tooltip container */\n",
       "        .djtooltip:hover .djtooltiptext {\n",
       "            visibility: visible;\n",
       "        }\n",
       "    </style>\n",
       "    \n",
       "    <b>mouse</b>\n",
       "        <div style=\"max-height:1000px;max-width:1500px;overflow:auto;\">\n",
       "        <table border=\"1\" class=\"Relation\">\n",
       "            <thead> <tr style=\"text-align: right;\"> <th> <div class=\"djtooltip\">\n",
       "                            <p id=\"primary\">mouse_id</p>\n",
       "                            <span class=\"djtooltiptext\">unique mouse id, an integer</span>\n",
       "                        </div></th><th><div class=\"djtooltip\">\n",
       "                            <p id=\"nonprimary\">dob</p>\n",
       "                            <span class=\"djtooltiptext\">mouse date of birth, a date</span>\n",
       "                        </div></th><th><div class=\"djtooltip\">\n",
       "                            <p id=\"nonprimary\">sex_gonadal</p>\n",
       "                            <span class=\"djtooltiptext\">gonadal sex, male, female, intersex, unclassified or unknown</span>\n",
       "                        </div> </th> </tr> </thead>\n",
       "            <tbody> <tr> <td>2</td>\n",
       "<td>2022-08-10</td>\n",
       "<td>M</td> </tr> </tbody>\n",
       "        </table>\n",
       "        \n",
       "        <p>Total: 1</p></div>\n",
       "        "
      ],
      "text/plain": [
       "*mouse_id    dob            sex_gonadal   \n",
       "+----------+ +------------+ +------------+\n",
       "2            2022-08-10     M             \n",
       " (Total: 1)"
      ]
     },
     "execution_count": 62,
     "metadata": {},
     "output_type": "execute_result"
    }
   ],
   "source": [
    "# another way to fetch data\n",
    "sex, ids = mouse.fetch('sex_gonadal','mouse_id')\n",
    "print(sex, ids)\n",
    "\n",
    "mouse & 'sex_gonadal = \"M\"'"
   ]
  },
  {
   "cell_type": "markdown",
   "id": "e467e003",
   "metadata": {},
   "source": [
    "## add users"
   ]
  },
  {
   "cell_type": "markdown",
   "id": "931236be",
   "metadata": {},
   "source": [
    "- https://docs.datajoint.org/python/admin/3-accounts.html\n",
    "\n",
    "- using common prefixes are helpful for this step! e.g.\n",
    "    - labwide_\n",
    "    - ejd_\n",
    "    - stonyford_\n",
    "    - el-hady_\n",
    "    - voigts_\n",
    "    - egnor_\n",
    "    - skokholm_\n",
    "\n",
    "- need to do this on the mysql side!\n",
    "    - `CREATE USER 'ejd'@'%' IDENTIFIED BY 'password';`\n",
    "    - to see current users: \n",
    "        `SELECT user, host from mysql.server`\n",
    "    - to change privileges\n",
    "```\n",
    "GRANT SELECT, INSERT ON `common\\_%`.* TO 'ejd'@'%';\n",
    "GRANT ALL PRIVILEGES ON `pipeline\\_%`.* TO 'ejd'@'%';\n",
    "GRANT ALL PRIVILEGES ON `alice\\_%`.* TO 'ejd'@'%';\n",
    "GRANT ALL PRIVILEGES ON `user_ejd\\_%`.* TO 'ejd'@'%';\n",
    "\n",
    "```"
   ]
  },
  {
   "cell_type": "code",
   "execution_count": null,
   "id": "d77818be",
   "metadata": {},
   "outputs": [],
   "source": []
  },
  {
   "cell_type": "markdown",
   "id": "52544c28",
   "metadata": {},
   "source": [
    "## use elements\n",
    "https://www.youtube.com/watch?v=NRqpKNoHEY0 at 4:57\n",
    "want to have a workflow_session folder, with files including\n",
    "\n",
    "```\n",
    "__init__.py\n",
    "export.py\n",
    "ingest.py\n",
    "paths.py\n",
    "workflow.py\n",
    "version.py\n",
    "```\n",
    "\n",
    "and in workflow.py, it imports the multiple schemas using \n",
    "\n",
    "```\n",
    "import datajoint as dj\n",
    "from element_lab import lab\n",
    "\n",
    "if 'custom' not in dj.config:\n",
    "    dj.config['custom'] = {}\n",
    "    \n",
    "db_prefix = dj.config['custom']..get('database.prefix','')\n",
    "\n",
    "lab.activate(db_prefix + 'lab')\n",
    "```"
   ]
  },
  {
   "cell_type": "code",
   "execution_count": 68,
   "id": "23ee9d64",
   "metadata": {},
   "outputs": [],
   "source": [
    "# import elements\n",
    "from element_lab import lab"
   ]
  },
  {
   "cell_type": "code",
   "execution_count": 73,
   "id": "c2c83c15",
   "metadata": {},
   "outputs": [
    {
     "data": {
      "text/html": [
       "\n",
       "    \n",
       "    <style type=\"text/css\">\n",
       "        .Relation{\n",
       "            border-collapse:collapse;\n",
       "        }\n",
       "        .Relation th{\n",
       "            background: #A0A0A0; color: #ffffff; padding:4px; border:#f0e0e0 1px solid;\n",
       "            font-weight: normal; font-family: monospace; font-size: 100%;\n",
       "        }\n",
       "        .Relation td{\n",
       "            padding:4px; border:#f0e0e0 1px solid; font-size:100%;\n",
       "        }\n",
       "        .Relation tr:nth-child(odd){\n",
       "            background: #ffffff;\n",
       "        }\n",
       "        .Relation tr:nth-child(even){\n",
       "            background: #f3f1ff;\n",
       "        }\n",
       "        /* Tooltip container */\n",
       "        .djtooltip {\n",
       "        }\n",
       "        /* Tooltip text */\n",
       "        .djtooltip .djtooltiptext {\n",
       "            visibility: hidden;\n",
       "            width: 120px;\n",
       "            background-color: black;\n",
       "            color: #fff;\n",
       "            text-align: center;\n",
       "            padding: 5px 0;\n",
       "            border-radius: 6px;\n",
       "            /* Position the tooltip text - see examples below! */\n",
       "            position: absolute;\n",
       "            z-index: 1;\n",
       "        }\n",
       "        #primary {\n",
       "            font-weight: bold;\n",
       "            color: black;\n",
       "        }\n",
       "        #nonprimary {\n",
       "            font-weight: normal;\n",
       "            color: white;\n",
       "        }\n",
       "\n",
       "        /* Show the tooltip text when you mouse over the tooltip container */\n",
       "        .djtooltip:hover .djtooltiptext {\n",
       "            visibility: visible;\n",
       "        }\n",
       "    </style>\n",
       "    \n",
       "    <b></b>\n",
       "        <div style=\"max-height:1000px;max-width:1500px;overflow:auto;\">\n",
       "        <table border=\"1\" class=\"Relation\">\n",
       "            <thead> <tr style=\"text-align: right;\"> <th> <div class=\"djtooltip\">\n",
       "                            <p id=\"primary\">lab</p>\n",
       "                            <span class=\"djtooltiptext\">Abbreviated lab name</span>\n",
       "                        </div></th><th><div class=\"djtooltip\">\n",
       "                            <p id=\"nonprimary\">lab_name</p>\n",
       "                            <span class=\"djtooltiptext\">full lab name</span>\n",
       "                        </div></th><th><div class=\"djtooltip\">\n",
       "                            <p id=\"nonprimary\">institution</p>\n",
       "                            <span class=\"djtooltiptext\"></span>\n",
       "                        </div></th><th><div class=\"djtooltip\">\n",
       "                            <p id=\"nonprimary\">address</p>\n",
       "                            <span class=\"djtooltiptext\"></span>\n",
       "                        </div></th><th><div class=\"djtooltip\">\n",
       "                            <p id=\"nonprimary\">time_zone</p>\n",
       "                            <span class=\"djtooltiptext\">'UTC±X' format for NWB export</span>\n",
       "                        </div> </th> </tr> </thead>\n",
       "            <tbody> <tr>  </tr> </tbody>\n",
       "        </table>\n",
       "        \n",
       "        <p>Total: 0</p></div>\n",
       "        "
      ],
      "text/plain": [
       "*lab    lab_name     institution    address     time_zone    \n",
       "+-----+ +----------+ +------------+ +---------+ +-----------+\n",
       "\n",
       " (Total: 0)"
      ]
     },
     "execution_count": 73,
     "metadata": {},
     "output_type": "execute_result"
    }
   ],
   "source": [
    "lab.activate('schema')\n",
    "lab.Lab()"
   ]
  },
  {
   "cell_type": "markdown",
   "id": "74a0b080",
   "metadata": {},
   "source": [
    "# our data structure"
   ]
  },
  {
   "cell_type": "code",
   "execution_count": null,
   "id": "2d1c92f3",
   "metadata": {},
   "outputs": [],
   "source": []
  },
  {
   "cell_type": "markdown",
   "id": "c9d34383",
   "metadata": {},
   "source": [
    "# notes"
   ]
  },
  {
   "cell_type": "markdown",
   "id": "ace65f37",
   "metadata": {},
   "source": [
    "### types: \n",
    "https://docs.datajoint.org/python/definition/06-Datatypes.html\n",
    "1. tinyint\n",
    "2. tinyint unsigned\n",
    "3. smallint\n",
    "4. smallint unsigned\n",
    "5. int\n",
    "6. int unsigned\n",
    "7. enum\n",
    "    - e.g. enum(\"isoflurane\", \"urethane\")\n",
    "8. date\n",
    "    - e.g. YYYY-MM-DD\n",
    "9. time\n",
    "    - HH:MM:SS\n",
    "10. datetime\n",
    "    - YYYY-MM-DD HH:MM:SS\n",
    "11. timestamp\n",
    "    - same as datetime but adjusted to local time zone\n",
    "12. char(N)\n",
    "    - always takes N bytes to store, only characters up to N\n",
    "13. varchar(N)\n",
    "    - saves variable length up to N, uses len(str)+1 or len(str)+2 bytes of storage\n",
    "14. float\n",
    "15. double\n",
    "16. decimal (N,F)\n",
    "    - decimal with N total digits and F fractional digits. lighter on storage and recall than float, good for things like money in dollars, cents\n",
    "17. mediumblob\n",
    "    - arbitrary numeric array up to 16 MiB\n",
    "18. blob\n",
    "    - same, up to 65 KiB\n",
    "19. tinyblob\n",
    "    - same, up to 256 bytes - header\n",
    "\n",
    "---\n",
    "\n",
    "#### datajoint-only types\n",
    "    - https://docs.datajoint.org/python/definition/06.5-External-Data.html\n",
    "\n",
    "20. attach\n",
    "    - file attachment, allowing send/receive of an opaque data file to/from a workflow\n",
    "    - For DataJoint attach attributes, DataJoint will copy the input file into a DataJoint store, hash the file contents, and track the input file name. Subsequent fetch operations will transfer a copy of the file to the local directory of the Python process and return a pointer to it’s location for subsequent client usage. This allows arbitrary files to be uploaded or attached to a DataJoint schema for later use in processing. File integrity is preserved by checksum comparison against the attachment data and verifying the contents during retrieval.\n",
    "21. filepath@store\n",
    "    - filepath to link non-DJ managed files into the workflow\n",
    "    - To define a table using the filepath datatype, an existing DataJoint store should be created and then referenced in the new table definition. For example, given a simple store:\n",
    "\n",
    "\n",
    "### external store(age)\n",
    "- https://docs.datajoint.org/python/admin/5-blob-config.html#external\n",
    "- longblob can contain up to 4Gb data after compression, but this slows down query-ing tables\n",
    "- good rule of thumb: > 10Mb should be stored elsewhere\n",
    "\n",
    "- defining an externally-stored attribute: blob@storename, same as longblob but with external storage, not in the database itself\n",
    "\n",
    "``` # Motion aligned movies\n",
    "-> twophoton.Scan\n",
    "---\n",
    "aligned_movie :  blob@external  # motion-aligned movie in 'external' store\n",
    "```\n",
    "\n",
    "- each store has a specification in connection config, e.g.\n",
    "```\n",
    "dj.config['stores'] = {\n",
    "  'external': dict(  # 'regular' external storage for this pipeline\n",
    "                protocol='s3',\n",
    "                endpoint='s3.amazonaws.com:9000',\n",
    "                bucket = 'testbucket',\n",
    "                location = 'datajoint-projects/lab1',\n",
    "                access_key='1234567',\n",
    "                secret_key='foaf1234'),\n",
    "  'external-raw': dict( # 'raw' storage for this pipeline\n",
    "                protocol='file',\n",
    "                location='/net/djblobs/myschema')\n",
    "}\n",
    "# external object cache - see fetch operation below for details.\n",
    "dj.config['cache'] = '/net/djcache'\n",
    "```\n",
    "\n",
    "\n",
    "### lengthy example of setting up external storage, Emily TODO\n",
    "```\n",
    "The following steps must be performed to enable external storage:\n",
    "\n",
    "1. Assign external location settings for each storage as shown in the Step 1 example above.\n",
    "\n",
    "2. Use dj.config for configuration.\n",
    "\n",
    "3. protocol [s3, file] Specifies whether s3 or file external storage is desired.\n",
    "\n",
    "4. endpoint [s3] Specifies the remote endpoint to the external data for all schemas as well as the target port.\n",
    "\n",
    "5. bucket [s3] Specifies the appropriate s3 bucket organization.\n",
    "\n",
    "6. location [s3, file] Specifies the subdirectory within the root or bucket of store to preserve data. External objects are thus stored remotely with the following path structure: <bucket (if applicable)>/<location>/<schema_name>/<subfolding_strategy>/<object>.\n",
    "\n",
    "7. access_key [s3] Specifies the access key credentials for accessing the external location.\n",
    "\n",
    "8. secret_key [s3] Specifies the secret key credentials for accessing the external location.\n",
    "\n",
    "9. secure [s3] Optional specification to establish secure external storage connection with TLS (aka SSL, HTTPS). Defaults to False.\n",
    "\n",
    "10. Optionally, for each schema specify the cache folder for local fetch cache.\n",
    "\n",
    "11. This is done by saving the path in the cache key of the DataJoint configuration dictionary:\n",
    "\n",
    "12. dj.config['cache'] = '/temp/dj-cache'\n",
    "```"
   ]
  },
  {
   "cell_type": "code",
   "execution_count": null,
   "id": "9c706a01",
   "metadata": {},
   "outputs": [],
   "source": []
  }
 ],
 "metadata": {
  "kernelspec": {
   "display_name": "Python 3 (ipykernel)",
   "language": "python",
   "name": "python3"
  },
  "language_info": {
   "codemirror_mode": {
    "name": "ipython",
    "version": 3
   },
   "file_extension": ".py",
   "mimetype": "text/x-python",
   "name": "python",
   "nbconvert_exporter": "python",
   "pygments_lexer": "ipython3",
   "version": "3.9.7"
  }
 },
 "nbformat": 4,
 "nbformat_minor": 5
}
