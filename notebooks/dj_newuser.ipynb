{
 "cells": [
  {
   "cell_type": "markdown",
   "id": "bf0503ae",
   "metadata": {},
   "source": [
    "# purpose\n",
    "\n",
    "- Emily setting up the lab's dj\n",
    "- later tailor to show how to connect to dj for new users"
   ]
  },
  {
   "cell_type": "markdown",
   "id": "e42f0005",
   "metadata": {},
   "source": [
    "# imports"
   ]
  },
  {
   "cell_type": "code",
   "execution_count": 27,
   "id": "37f7caed",
   "metadata": {},
   "outputs": [],
   "source": [
    "import datajoint as dj\n",
    "import glob, os, sys\n",
    "import matplotlib.pyplot as plt\n",
    "import pandas as pd\n",
    "import numpy as np\n",
    "import getpass"
   ]
  },
  {
   "cell_type": "code",
   "execution_count": 31,
   "id": "b5507763",
   "metadata": {},
   "outputs": [
    {
     "name": "stdout",
     "output_type": "stream",
     "text": [
      "Collecting element_session\n",
      "  Using cached element_session-0.1.2-py3-none-any.whl (6.8 kB)\n",
      "Requirement already satisfied: datajoint>=0.13.0 in /home/dennislab2/anaconda3/envs/dj/lib/python3.10/site-packages (from element_session) (0.13.7)\n",
      "Requirement already satisfied: pandas in /home/dennislab2/anaconda3/envs/dj/lib/python3.10/site-packages (from datajoint>=0.13.0->element_session) (1.4.3)\n",
      "Requirement already satisfied: pydot in /home/dennislab2/anaconda3/envs/dj/lib/python3.10/site-packages (from datajoint>=0.13.0->element_session) (1.4.2)\n",
      "Requirement already satisfied: networkx<=2.6.3 in /home/dennislab2/anaconda3/envs/dj/lib/python3.10/site-packages (from datajoint>=0.13.0->element_session) (2.6.3)\n",
      "Requirement already satisfied: ipython in /home/dennislab2/anaconda3/envs/dj/lib/python3.10/site-packages (from datajoint>=0.13.0->element_session) (8.4.0)\n",
      "Requirement already satisfied: pymysql>=0.7.2 in /home/dennislab2/anaconda3/envs/dj/lib/python3.10/site-packages (from datajoint>=0.13.0->element_session) (1.0.2)\n",
      "Requirement already satisfied: pyparsing in /home/dennislab2/anaconda3/envs/dj/lib/python3.10/site-packages (from datajoint>=0.13.0->element_session) (3.0.9)\n",
      "Requirement already satisfied: matplotlib in /home/dennislab2/anaconda3/envs/dj/lib/python3.10/site-packages (from datajoint>=0.13.0->element_session) (3.5.2)\n",
      "Requirement already satisfied: otumat in /home/dennislab2/anaconda3/envs/dj/lib/python3.10/site-packages (from datajoint>=0.13.0->element_session) (0.3.1)\n",
      "Requirement already satisfied: urllib3 in /home/dennislab2/anaconda3/envs/dj/lib/python3.10/site-packages (from datajoint>=0.13.0->element_session) (1.26.11)\n",
      "Requirement already satisfied: numpy in /home/dennislab2/anaconda3/envs/dj/lib/python3.10/site-packages (from datajoint>=0.13.0->element_session) (1.22.4)\n",
      "Requirement already satisfied: tqdm in /home/dennislab2/anaconda3/envs/dj/lib/python3.10/site-packages (from datajoint>=0.13.0->element_session) (4.64.0)\n",
      "Requirement already satisfied: minio>=7.0.0 in /home/dennislab2/anaconda3/envs/dj/lib/python3.10/site-packages (from datajoint>=0.13.0->element_session) (7.1.11)\n",
      "Requirement already satisfied: cryptography in /home/dennislab2/anaconda3/envs/dj/lib/python3.10/site-packages (from datajoint>=0.13.0->element_session) (37.0.4)\n",
      "Requirement already satisfied: certifi in /home/dennislab2/anaconda3/envs/dj/lib/python3.10/site-packages (from minio>=7.0.0->datajoint>=0.13.0->element_session) (2022.6.15)\n",
      "Requirement already satisfied: cffi>=1.12 in /home/dennislab2/anaconda3/envs/dj/lib/python3.10/site-packages (from cryptography->datajoint>=0.13.0->element_session) (1.15.1)\n",
      "Requirement already satisfied: pickleshare in /home/dennislab2/anaconda3/envs/dj/lib/python3.10/site-packages (from ipython->datajoint>=0.13.0->element_session) (0.7.5)\n",
      "Requirement already satisfied: prompt-toolkit!=3.0.0,!=3.0.1,<3.1.0,>=2.0.0 in /home/dennislab2/anaconda3/envs/dj/lib/python3.10/site-packages (from ipython->datajoint>=0.13.0->element_session) (3.0.30)\n",
      "Requirement already satisfied: stack-data in /home/dennislab2/anaconda3/envs/dj/lib/python3.10/site-packages (from ipython->datajoint>=0.13.0->element_session) (0.3.0)\n",
      "Requirement already satisfied: setuptools>=18.5 in /home/dennislab2/anaconda3/envs/dj/lib/python3.10/site-packages (from ipython->datajoint>=0.13.0->element_session) (63.4.2)\n",
      "Requirement already satisfied: jedi>=0.16 in /home/dennislab2/anaconda3/envs/dj/lib/python3.10/site-packages (from ipython->datajoint>=0.13.0->element_session) (0.18.1)\n",
      "Requirement already satisfied: pexpect>4.3 in /home/dennislab2/anaconda3/envs/dj/lib/python3.10/site-packages (from ipython->datajoint>=0.13.0->element_session) (4.8.0)\n",
      "Requirement already satisfied: decorator in /home/dennislab2/anaconda3/envs/dj/lib/python3.10/site-packages (from ipython->datajoint>=0.13.0->element_session) (5.1.1)\n",
      "Requirement already satisfied: traitlets>=5 in /home/dennislab2/anaconda3/envs/dj/lib/python3.10/site-packages (from ipython->datajoint>=0.13.0->element_session) (5.3.0)\n",
      "Requirement already satisfied: backcall in /home/dennislab2/anaconda3/envs/dj/lib/python3.10/site-packages (from ipython->datajoint>=0.13.0->element_session) (0.2.0)\n",
      "Requirement already satisfied: pygments>=2.4.0 in /home/dennislab2/anaconda3/envs/dj/lib/python3.10/site-packages (from ipython->datajoint>=0.13.0->element_session) (2.12.0)\n",
      "Requirement already satisfied: matplotlib-inline in /home/dennislab2/anaconda3/envs/dj/lib/python3.10/site-packages (from ipython->datajoint>=0.13.0->element_session) (0.1.3)\n",
      "Requirement already satisfied: python-dateutil>=2.7 in /home/dennislab2/anaconda3/envs/dj/lib/python3.10/site-packages (from matplotlib->datajoint>=0.13.0->element_session) (2.8.2)\n",
      "Requirement already satisfied: fonttools>=4.22.0 in /home/dennislab2/anaconda3/envs/dj/lib/python3.10/site-packages (from matplotlib->datajoint>=0.13.0->element_session) (4.34.4)\n",
      "Requirement already satisfied: kiwisolver>=1.0.1 in /home/dennislab2/anaconda3/envs/dj/lib/python3.10/site-packages (from matplotlib->datajoint>=0.13.0->element_session) (1.4.4)\n",
      "Requirement already satisfied: pillow>=6.2.0 in /home/dennislab2/anaconda3/envs/dj/lib/python3.10/site-packages (from matplotlib->datajoint>=0.13.0->element_session) (9.2.0)\n",
      "Requirement already satisfied: packaging>=20.0 in /home/dennislab2/anaconda3/envs/dj/lib/python3.10/site-packages (from matplotlib->datajoint>=0.13.0->element_session) (21.3)\n",
      "Requirement already satisfied: cycler>=0.10 in /home/dennislab2/anaconda3/envs/dj/lib/python3.10/site-packages (from matplotlib->datajoint>=0.13.0->element_session) (0.11.0)\n",
      "Requirement already satisfied: appdirs in /home/dennislab2/anaconda3/envs/dj/lib/python3.10/site-packages (from otumat->datajoint>=0.13.0->element_session) (1.4.4)\n",
      "Requirement already satisfied: watchdog in /home/dennislab2/anaconda3/envs/dj/lib/python3.10/site-packages (from otumat->datajoint>=0.13.0->element_session) (2.1.9)\n",
      "Requirement already satisfied: flask in /home/dennislab2/anaconda3/envs/dj/lib/python3.10/site-packages (from otumat->datajoint>=0.13.0->element_session) (2.2.2)\n",
      "Requirement already satisfied: pytz>=2020.1 in /home/dennislab2/anaconda3/envs/dj/lib/python3.10/site-packages (from pandas->datajoint>=0.13.0->element_session) (2022.1)\n",
      "Requirement already satisfied: pycparser in /home/dennislab2/anaconda3/envs/dj/lib/python3.10/site-packages (from cffi>=1.12->cryptography->datajoint>=0.13.0->element_session) (2.21)\n",
      "Requirement already satisfied: parso<0.9.0,>=0.8.0 in /home/dennislab2/anaconda3/envs/dj/lib/python3.10/site-packages (from jedi>=0.16->ipython->datajoint>=0.13.0->element_session) (0.8.3)\n",
      "Requirement already satisfied: ptyprocess>=0.5 in /home/dennislab2/anaconda3/envs/dj/lib/python3.10/site-packages (from pexpect>4.3->ipython->datajoint>=0.13.0->element_session) (0.7.0)\n",
      "Requirement already satisfied: wcwidth in /home/dennislab2/anaconda3/envs/dj/lib/python3.10/site-packages (from prompt-toolkit!=3.0.0,!=3.0.1,<3.1.0,>=2.0.0->ipython->datajoint>=0.13.0->element_session) (0.2.5)\n",
      "Requirement already satisfied: six>=1.5 in /home/dennislab2/anaconda3/envs/dj/lib/python3.10/site-packages (from python-dateutil>=2.7->matplotlib->datajoint>=0.13.0->element_session) (1.16.0)\n",
      "Requirement already satisfied: Werkzeug>=2.2.2 in /home/dennislab2/anaconda3/envs/dj/lib/python3.10/site-packages (from flask->otumat->datajoint>=0.13.0->element_session) (2.2.2)\n",
      "Requirement already satisfied: click>=8.0 in /home/dennislab2/anaconda3/envs/dj/lib/python3.10/site-packages (from flask->otumat->datajoint>=0.13.0->element_session) (8.1.3)\n",
      "Requirement already satisfied: Jinja2>=3.0 in /home/dennislab2/anaconda3/envs/dj/lib/python3.10/site-packages (from flask->otumat->datajoint>=0.13.0->element_session) (3.1.2)\n",
      "Requirement already satisfied: itsdangerous>=2.0 in /home/dennislab2/anaconda3/envs/dj/lib/python3.10/site-packages (from flask->otumat->datajoint>=0.13.0->element_session) (2.1.2)\n",
      "Requirement already satisfied: pure-eval in /home/dennislab2/anaconda3/envs/dj/lib/python3.10/site-packages (from stack-data->ipython->datajoint>=0.13.0->element_session) (0.2.2)\n",
      "Requirement already satisfied: executing in /home/dennislab2/anaconda3/envs/dj/lib/python3.10/site-packages (from stack-data->ipython->datajoint>=0.13.0->element_session) (0.9.1)\n",
      "Requirement already satisfied: asttokens in /home/dennislab2/anaconda3/envs/dj/lib/python3.10/site-packages (from stack-data->ipython->datajoint>=0.13.0->element_session) (2.0.5)\n",
      "Requirement already satisfied: MarkupSafe>=2.0 in /home/dennislab2/anaconda3/envs/dj/lib/python3.10/site-packages (from Jinja2>=3.0->flask->otumat->datajoint>=0.13.0->element_session) (2.1.1)\n"
     ]
    },
    {
     "name": "stdout",
     "output_type": "stream",
     "text": [
      "Installing collected packages: element_session\r\n",
      "Successfully installed element_session-0.1.2\r\n"
     ]
    }
   ],
   "source": [
    "!pip install element_session"
   ]
  },
  {
   "cell_type": "code",
   "execution_count": 34,
   "id": "5345e414",
   "metadata": {},
   "outputs": [],
   "source": [
    "sys.path.append(os.path.dirname(os.getcwd()))\n",
    "from src import *\n",
    "from src.workflow.workflow import lab, subject, session\n",
    "from src.workflow.ingest import ingest_lab, ingest_subjects, ingest_sessions"
   ]
  },
  {
   "cell_type": "markdown",
   "id": "aafc4031",
   "metadata": {},
   "source": [
    "# procedure"
   ]
  },
  {
   "cell_type": "code",
   "execution_count": 7,
   "id": "7b1c46ca",
   "metadata": {},
   "outputs": [
    {
     "name": "stdout",
     "output_type": "stream",
     "text": [
      "········\n"
     ]
    },
    {
     "data": {
      "text/plain": [
       "DataJoint connection (connected) djAdmin@vm7146.int.janelia.org:3306"
      ]
     },
     "execution_count": 7,
     "metadata": {},
     "output_type": "execute_result"
    }
   ],
   "source": [
    "# connect to dj\n",
    "\n",
    "dj.config['database.host'] = 'vm7146.int.janelia.org'\n",
    "dj.config['database.user'] = 'djAdmin'  # enter your username\n",
    "dj.config['database.password'] = getpass.getpass() # enter the password securily\n",
    "dj.conn(use_tls=True)\n"
   ]
  },
  {
   "cell_type": "code",
   "execution_count": 8,
   "id": "e43698e7",
   "metadata": {},
   "outputs": [],
   "source": [
    "#using tutorial from tutorials.datajoint.io/beginner/building-first-pipeline/python/first-table.html, which only opens in microsoft edge browser for me 2022/08/10\n",
    "schema = dj.schema('all_dennislab',locals())\n",
    "# adding the locals() allows us to see all other tables created and call them simply by their name"
   ]
  },
  {
   "cell_type": "code",
   "execution_count": null,
   "id": "4ac08090",
   "metadata": {},
   "outputs": [],
   "source": [
    "### prefixes are useful - like dennis_\n",
    "\n",
    "if 'custom' not in dj.config:\n",
    "    dj.config['custom'] = dict()\n",
    "dj.config['custom']['database.prefix'].append('all_')\n",
    "dj.config.save_local() #should make dj_local_conf.json"
   ]
  },
  {
   "cell_type": "code",
   "execution_count": null,
   "id": "cb1725ea",
   "metadata": {},
   "outputs": [],
   "source": []
  },
  {
   "cell_type": "code",
   "execution_count": null,
   "id": "62310361",
   "metadata": {},
   "outputs": [],
   "source": []
  },
  {
   "cell_type": "code",
   "execution_count": null,
   "id": "be9cdac4",
   "metadata": {},
   "outputs": [],
   "source": []
  },
  {
   "cell_type": "code",
   "execution_count": null,
   "id": "343ee110",
   "metadata": {},
   "outputs": [],
   "source": []
  },
  {
   "cell_type": "code",
   "execution_count": null,
   "id": "359d81ef",
   "metadata": {},
   "outputs": [],
   "source": []
  },
  {
   "cell_type": "markdown",
   "id": "e7846d65",
   "metadata": {},
   "source": [
    "# old procedure to borrow from"
   ]
  },
  {
   "cell_type": "code",
   "execution_count": 14,
   "id": "8354876b",
   "metadata": {},
   "outputs": [],
   "source": [
    "#ok let's use the schema object to create a new table, mouse\n",
    "# we \"decorate\" the class Mouse with the schema object, meaning that Mouse table is specified inside the schema object that points to tutorial.\n",
    "# we use dj.Manual because we're going to manually enter this info\n",
    "# the # mouse line gives us space for a reader-friendly comment about what the table is/contains\n",
    "# the rest is formatted as attribute: datatype # comment\n",
    "# the --- separates primary keys (UNIQUE identifiers) and secondary keys (can be repeated)\n",
    "@schema\n",
    "class Mouse(dj.Manual):\n",
    "    definition = \"\"\"\n",
    "    # mouse\n",
    "    mouse_id: int    #unique mouse id, an integer\n",
    "    ---\n",
    "    dob: date   #mouse date of birth, a date \n",
    "    sex_gonadal: enum('M','F','I','U') #gonadal sex, male, female, intersex, unclassified or unknown\n",
    "    \"\"\""
   ]
  },
  {
   "cell_type": "code",
   "execution_count": 16,
   "id": "e286c773",
   "metadata": {},
   "outputs": [],
   "source": [
    "mouse = Mouse()\n",
    "mouse.insert1( (0,'2022-08-10','F'))"
   ]
  },
  {
   "cell_type": "code",
   "execution_count": 17,
   "id": "b4fb54c0",
   "metadata": {},
   "outputs": [
    {
     "data": {
      "text/html": [
       "\n",
       "    \n",
       "    <style type=\"text/css\">\n",
       "        .Relation{\n",
       "            border-collapse:collapse;\n",
       "        }\n",
       "        .Relation th{\n",
       "            background: #A0A0A0; color: #ffffff; padding:4px; border:#f0e0e0 1px solid;\n",
       "            font-weight: normal; font-family: monospace; font-size: 100%;\n",
       "        }\n",
       "        .Relation td{\n",
       "            padding:4px; border:#f0e0e0 1px solid; font-size:100%;\n",
       "        }\n",
       "        .Relation tr:nth-child(odd){\n",
       "            background: #ffffff;\n",
       "        }\n",
       "        .Relation tr:nth-child(even){\n",
       "            background: #f3f1ff;\n",
       "        }\n",
       "        /* Tooltip container */\n",
       "        .djtooltip {\n",
       "        }\n",
       "        /* Tooltip text */\n",
       "        .djtooltip .djtooltiptext {\n",
       "            visibility: hidden;\n",
       "            width: 120px;\n",
       "            background-color: black;\n",
       "            color: #fff;\n",
       "            text-align: center;\n",
       "            padding: 5px 0;\n",
       "            border-radius: 6px;\n",
       "            /* Position the tooltip text - see examples below! */\n",
       "            position: absolute;\n",
       "            z-index: 1;\n",
       "        }\n",
       "        #primary {\n",
       "            font-weight: bold;\n",
       "            color: black;\n",
       "        }\n",
       "        #nonprimary {\n",
       "            font-weight: normal;\n",
       "            color: white;\n",
       "        }\n",
       "\n",
       "        /* Show the tooltip text when you mouse over the tooltip container */\n",
       "        .djtooltip:hover .djtooltiptext {\n",
       "            visibility: visible;\n",
       "        }\n",
       "    </style>\n",
       "    \n",
       "    <b>mouse</b>\n",
       "        <div style=\"max-height:1000px;max-width:1500px;overflow:auto;\">\n",
       "        <table border=\"1\" class=\"Relation\">\n",
       "            <thead> <tr style=\"text-align: right;\"> <th> <div class=\"djtooltip\">\n",
       "                            <p id=\"primary\">mouse_id</p>\n",
       "                            <span class=\"djtooltiptext\">unique mouse id, an integer</span>\n",
       "                        </div></th><th><div class=\"djtooltip\">\n",
       "                            <p id=\"nonprimary\">dob</p>\n",
       "                            <span class=\"djtooltiptext\">mouse date of birth, a date</span>\n",
       "                        </div></th><th><div class=\"djtooltip\">\n",
       "                            <p id=\"nonprimary\">sex_gonadal</p>\n",
       "                            <span class=\"djtooltiptext\">gonadal sex, male, female, intersex, unclassified or unknown</span>\n",
       "                        </div> </th> </tr> </thead>\n",
       "            <tbody> <tr> <td>0</td>\n",
       "<td>2022-08-10</td>\n",
       "<td>F</td> </tr> </tbody>\n",
       "        </table>\n",
       "        \n",
       "        <p>Total: 1</p></div>\n",
       "        "
      ],
      "text/plain": [
       "*mouse_id    dob            sex_gonadal   \n",
       "+----------+ +------------+ +------------+\n",
       "0            2022-08-10     F             \n",
       " (Total: 1)"
      ]
     },
     "execution_count": 17,
     "metadata": {},
     "output_type": "execute_result"
    }
   ],
   "source": [
    "mouse"
   ]
  },
  {
   "cell_type": "code",
   "execution_count": 20,
   "id": "14b412b4",
   "metadata": {},
   "outputs": [],
   "source": [
    "data_dict = {\n",
    "    'mouse_id': 1,\n",
    "    'dob': '2022-08-10',\n",
    "    'sex_gonadal':'U'\n",
    "}"
   ]
  },
  {
   "cell_type": "code",
   "execution_count": 21,
   "id": "99fe55e4",
   "metadata": {},
   "outputs": [],
   "source": [
    "mouse.insert1(data_dict)"
   ]
  },
  {
   "cell_type": "code",
   "execution_count": 22,
   "id": "966c7bf8",
   "metadata": {},
   "outputs": [
    {
     "data": {
      "text/html": [
       "\n",
       "    \n",
       "    <style type=\"text/css\">\n",
       "        .Relation{\n",
       "            border-collapse:collapse;\n",
       "        }\n",
       "        .Relation th{\n",
       "            background: #A0A0A0; color: #ffffff; padding:4px; border:#f0e0e0 1px solid;\n",
       "            font-weight: normal; font-family: monospace; font-size: 100%;\n",
       "        }\n",
       "        .Relation td{\n",
       "            padding:4px; border:#f0e0e0 1px solid; font-size:100%;\n",
       "        }\n",
       "        .Relation tr:nth-child(odd){\n",
       "            background: #ffffff;\n",
       "        }\n",
       "        .Relation tr:nth-child(even){\n",
       "            background: #f3f1ff;\n",
       "        }\n",
       "        /* Tooltip container */\n",
       "        .djtooltip {\n",
       "        }\n",
       "        /* Tooltip text */\n",
       "        .djtooltip .djtooltiptext {\n",
       "            visibility: hidden;\n",
       "            width: 120px;\n",
       "            background-color: black;\n",
       "            color: #fff;\n",
       "            text-align: center;\n",
       "            padding: 5px 0;\n",
       "            border-radius: 6px;\n",
       "            /* Position the tooltip text - see examples below! */\n",
       "            position: absolute;\n",
       "            z-index: 1;\n",
       "        }\n",
       "        #primary {\n",
       "            font-weight: bold;\n",
       "            color: black;\n",
       "        }\n",
       "        #nonprimary {\n",
       "            font-weight: normal;\n",
       "            color: white;\n",
       "        }\n",
       "\n",
       "        /* Show the tooltip text when you mouse over the tooltip container */\n",
       "        .djtooltip:hover .djtooltiptext {\n",
       "            visibility: visible;\n",
       "        }\n",
       "    </style>\n",
       "    \n",
       "    <b>mouse</b>\n",
       "        <div style=\"max-height:1000px;max-width:1500px;overflow:auto;\">\n",
       "        <table border=\"1\" class=\"Relation\">\n",
       "            <thead> <tr style=\"text-align: right;\"> <th> <div class=\"djtooltip\">\n",
       "                            <p id=\"primary\">mouse_id</p>\n",
       "                            <span class=\"djtooltiptext\">unique mouse id, an integer</span>\n",
       "                        </div></th><th><div class=\"djtooltip\">\n",
       "                            <p id=\"nonprimary\">dob</p>\n",
       "                            <span class=\"djtooltiptext\">mouse date of birth, a date</span>\n",
       "                        </div></th><th><div class=\"djtooltip\">\n",
       "                            <p id=\"nonprimary\">sex_gonadal</p>\n",
       "                            <span class=\"djtooltiptext\">gonadal sex, male, female, intersex, unclassified or unknown</span>\n",
       "                        </div> </th> </tr> </thead>\n",
       "            <tbody> <tr> <td>0</td>\n",
       "<td>2022-08-10</td>\n",
       "<td>F</td></tr><tr><td>1</td>\n",
       "<td>2022-08-10</td>\n",
       "<td>U</td> </tr> </tbody>\n",
       "        </table>\n",
       "        \n",
       "        <p>Total: 2</p></div>\n",
       "        "
      ],
      "text/plain": [
       "*mouse_id    dob            sex_gonadal   \n",
       "+----------+ +------------+ +------------+\n",
       "0            2022-08-10     F             \n",
       "1            2022-08-10     U             \n",
       " (Total: 2)"
      ]
     },
     "execution_count": 22,
     "metadata": {},
     "output_type": "execute_result"
    }
   ],
   "source": [
    "mouse"
   ]
  },
  {
   "cell_type": "code",
   "execution_count": 23,
   "id": "5b2c9732",
   "metadata": {},
   "outputs": [
    {
     "data": {
      "text/html": [
       "\n",
       "    \n",
       "    <style type=\"text/css\">\n",
       "        .Relation{\n",
       "            border-collapse:collapse;\n",
       "        }\n",
       "        .Relation th{\n",
       "            background: #A0A0A0; color: #ffffff; padding:4px; border:#f0e0e0 1px solid;\n",
       "            font-weight: normal; font-family: monospace; font-size: 100%;\n",
       "        }\n",
       "        .Relation td{\n",
       "            padding:4px; border:#f0e0e0 1px solid; font-size:100%;\n",
       "        }\n",
       "        .Relation tr:nth-child(odd){\n",
       "            background: #ffffff;\n",
       "        }\n",
       "        .Relation tr:nth-child(even){\n",
       "            background: #f3f1ff;\n",
       "        }\n",
       "        /* Tooltip container */\n",
       "        .djtooltip {\n",
       "        }\n",
       "        /* Tooltip text */\n",
       "        .djtooltip .djtooltiptext {\n",
       "            visibility: hidden;\n",
       "            width: 120px;\n",
       "            background-color: black;\n",
       "            color: #fff;\n",
       "            text-align: center;\n",
       "            padding: 5px 0;\n",
       "            border-radius: 6px;\n",
       "            /* Position the tooltip text - see examples below! */\n",
       "            position: absolute;\n",
       "            z-index: 1;\n",
       "        }\n",
       "        #primary {\n",
       "            font-weight: bold;\n",
       "            color: black;\n",
       "        }\n",
       "        #nonprimary {\n",
       "            font-weight: normal;\n",
       "            color: white;\n",
       "        }\n",
       "\n",
       "        /* Show the tooltip text when you mouse over the tooltip container */\n",
       "        .djtooltip:hover .djtooltiptext {\n",
       "            visibility: visible;\n",
       "        }\n",
       "    </style>\n",
       "    \n",
       "    <b>mouse</b>\n",
       "        <div style=\"max-height:1000px;max-width:1500px;overflow:auto;\">\n",
       "        <table border=\"1\" class=\"Relation\">\n",
       "            <thead> <tr style=\"text-align: right;\"> <th> <div class=\"djtooltip\">\n",
       "                            <p id=\"primary\">mouse_id</p>\n",
       "                            <span class=\"djtooltiptext\">unique mouse id, an integer</span>\n",
       "                        </div></th><th><div class=\"djtooltip\">\n",
       "                            <p id=\"nonprimary\">dob</p>\n",
       "                            <span class=\"djtooltiptext\">mouse date of birth, a date</span>\n",
       "                        </div></th><th><div class=\"djtooltip\">\n",
       "                            <p id=\"nonprimary\">sex_gonadal</p>\n",
       "                            <span class=\"djtooltiptext\">gonadal sex, male, female, intersex, unclassified or unknown</span>\n",
       "                        </div> </th> </tr> </thead>\n",
       "            <tbody> <tr> <td>0</td>\n",
       "<td>2022-08-10</td>\n",
       "<td>F</td></tr><tr><td>1</td>\n",
       "<td>2022-08-10</td>\n",
       "<td>U</td></tr><tr><td>2</td>\n",
       "<td>2022-08-10</td>\n",
       "<td>M</td></tr><tr><td>3</td>\n",
       "<td>2022-08-10</td>\n",
       "<td>I</td> </tr> </tbody>\n",
       "        </table>\n",
       "        \n",
       "        <p>Total: 4</p></div>\n",
       "        "
      ],
      "text/plain": [
       "*mouse_id    dob            sex_gonadal   \n",
       "+----------+ +------------+ +------------+\n",
       "0            2022-08-10     F             \n",
       "1            2022-08-10     U             \n",
       "2            2022-08-10     M             \n",
       "3            2022-08-10     I             \n",
       " (Total: 4)"
      ]
     },
     "execution_count": 23,
     "metadata": {},
     "output_type": "execute_result"
    }
   ],
   "source": [
    "data_dict_2 =  {\n",
    "    'mouse_id': 2,\n",
    "    'dob': '2022-08-10',\n",
    "    'sex_gonadal':'M'\n",
    "}\n",
    "data_dict_3 =  {\n",
    "    'mouse_id': 3,\n",
    "    'dob': '2022-08-10',\n",
    "    'sex_gonadal':'I'\n",
    "}\n",
    "mouse.insert([data_dict_2,data_dict_3])\n",
    "mouse"
   ]
  },
  {
   "cell_type": "markdown",
   "id": "767df4ab",
   "metadata": {},
   "source": [
    "# Borrowed from Brody and IBL"
   ]
  },
  {
   "cell_type": "code",
   "execution_count": 27,
   "id": "f21ab244",
   "metadata": {},
   "outputs": [],
   "source": [
    "# add graphviz to path, taken from https://github.com/Brody-Lab/bl_pipeline_python/blob/main/notebooks/00-Datajoint-configuration.ipynb\n",
    "if os.name == 'nt':\n",
    "    if 'C:\\\\Program Files\\\\Graphviz\\\\bin' not in os.environ[\"PATH\"]:\n",
    "        os.environ[\"PATH\"] += ';C:\\\\Program Files\\\\Graphviz\\\\bin'"
   ]
  },
  {
   "cell_type": "code",
   "execution_count": 32,
   "id": "b66788c5",
   "metadata": {},
   "outputs": [],
   "source": [
    "# later we can make this into a standalone file in a repo, and import it\n"
   ]
  },
  {
   "cell_type": "markdown",
   "id": "6a05d759",
   "metadata": {},
   "source": [
    "# return to procedure"
   ]
  },
  {
   "cell_type": "code",
   "execution_count": 55,
   "id": "09bdd765",
   "metadata": {},
   "outputs": [
    {
     "name": "stdout",
     "output_type": "stream",
     "text": [
      "WARNING invalid path,  does not exist\n",
      "saving table at tutorial_tables.py\n"
     ]
    }
   ],
   "source": [
    "# defining a table module\n",
    "# this is making a .py file that is read as a module in python so we can import our tables\n",
    "\n",
    "\n",
    "for_file = [\"import datajoint as dj\",\n",
    "            \"schema = dj.schema('tutorial',locals())\",    \n",
    "            \"@schema\",\"class Mouse(dj.Manual):\",\n",
    "            \"    definition = \\\"\\\"\\\"\",\n",
    "            \"    # mouse\",\n",
    "            \"    mouse_id: int    #unique mouse id, an integer\",\n",
    "            \"    ---\",\n",
    "            \"    dob: date   #mouse date of birth, a date\", \n",
    "            \"    sex_gonadal: enum('M','F','I','U') #gonadal sex, male, female, intersex, unclassified or unknown\\\"\\\"\\\"\"]\n",
    "\n",
    "\n",
    "def make_table_def_as_file(file_loc,table_data):\n",
    "    \"\"\" takes a location and a list of lines to write to a table .py file\"\"\"\n",
    "    if not os.path.exists(os.path.dirname(file_loc)):\n",
    "        print(\"WARNING invalid path, {} does not exist\".format(os.path.dirname(file_loc)))\n",
    "    if \"py\" not in file_loc:\n",
    "        print(\"adding .py to file_loc\")\n",
    "        file_loc = \"{}.py\".format(file_loc)\n",
    "    print(\"saving table at {}\".format(file_loc))\n",
    "    with open(file_loc,\"w\") as f:\n",
    "        for line in table_data:\n",
    "            f.write(\"{}\\n\".format(line))\n",
    "        f.close()\n",
    "        \n",
    "file_loc = 'tutorial_tables.py'\n",
    "make_table_def_as_file(file_loc,for_file)"
   ]
  },
  {
   "cell_type": "code",
   "execution_count": 56,
   "id": "5cd04622",
   "metadata": {},
   "outputs": [],
   "source": [
    "from tutorial_tables import *"
   ]
  },
  {
   "cell_type": "code",
   "execution_count": 57,
   "id": "01809e8d",
   "metadata": {},
   "outputs": [
    {
     "data": {
      "text/plain": [
       "array([(0, datetime.date(2022, 8, 10), 'F'),\n",
       "       (1, datetime.date(2022, 8, 10), 'U'),\n",
       "       (2, datetime.date(2022, 8, 10), 'M'),\n",
       "       (3, datetime.date(2022, 8, 10), 'I')],\n",
       "      dtype=[('mouse_id', '<i8'), ('dob', 'O'), ('sex_gonadal', 'O')])"
      ]
     },
     "execution_count": 57,
     "metadata": {},
     "output_type": "execute_result"
    }
   ],
   "source": [
    "# fetch some data\n",
    "data = mouse.fetch()\n",
    "data"
   ]
  },
  {
   "cell_type": "code",
   "execution_count": 58,
   "id": "e85ffcec",
   "metadata": {},
   "outputs": [
    {
     "data": {
      "text/plain": [
       "[{'mouse_id': 0, 'dob': datetime.date(2022, 8, 10), 'sex_gonadal': 'F'},\n",
       " {'mouse_id': 1, 'dob': datetime.date(2022, 8, 10), 'sex_gonadal': 'U'},\n",
       " {'mouse_id': 2, 'dob': datetime.date(2022, 8, 10), 'sex_gonadal': 'M'},\n",
       " {'mouse_id': 3, 'dob': datetime.date(2022, 8, 10), 'sex_gonadal': 'I'}]"
      ]
     },
     "execution_count": 58,
     "metadata": {},
     "output_type": "execute_result"
    }
   ],
   "source": [
    "# fetch some data as a dict\n",
    "data = mouse.fetch(as_dict=True)\n",
    "data"
   ]
  },
  {
   "cell_type": "code",
   "execution_count": 62,
   "id": "51548e11",
   "metadata": {},
   "outputs": [
    {
     "name": "stdout",
     "output_type": "stream",
     "text": [
      "['F' 'U' 'M' 'I'] [0 1 2 3]\n"
     ]
    },
    {
     "data": {
      "text/html": [
       "\n",
       "    \n",
       "    <style type=\"text/css\">\n",
       "        .Relation{\n",
       "            border-collapse:collapse;\n",
       "        }\n",
       "        .Relation th{\n",
       "            background: #A0A0A0; color: #ffffff; padding:4px; border:#f0e0e0 1px solid;\n",
       "            font-weight: normal; font-family: monospace; font-size: 100%;\n",
       "        }\n",
       "        .Relation td{\n",
       "            padding:4px; border:#f0e0e0 1px solid; font-size:100%;\n",
       "        }\n",
       "        .Relation tr:nth-child(odd){\n",
       "            background: #ffffff;\n",
       "        }\n",
       "        .Relation tr:nth-child(even){\n",
       "            background: #f3f1ff;\n",
       "        }\n",
       "        /* Tooltip container */\n",
       "        .djtooltip {\n",
       "        }\n",
       "        /* Tooltip text */\n",
       "        .djtooltip .djtooltiptext {\n",
       "            visibility: hidden;\n",
       "            width: 120px;\n",
       "            background-color: black;\n",
       "            color: #fff;\n",
       "            text-align: center;\n",
       "            padding: 5px 0;\n",
       "            border-radius: 6px;\n",
       "            /* Position the tooltip text - see examples below! */\n",
       "            position: absolute;\n",
       "            z-index: 1;\n",
       "        }\n",
       "        #primary {\n",
       "            font-weight: bold;\n",
       "            color: black;\n",
       "        }\n",
       "        #nonprimary {\n",
       "            font-weight: normal;\n",
       "            color: white;\n",
       "        }\n",
       "\n",
       "        /* Show the tooltip text when you mouse over the tooltip container */\n",
       "        .djtooltip:hover .djtooltiptext {\n",
       "            visibility: visible;\n",
       "        }\n",
       "    </style>\n",
       "    \n",
       "    <b>mouse</b>\n",
       "        <div style=\"max-height:1000px;max-width:1500px;overflow:auto;\">\n",
       "        <table border=\"1\" class=\"Relation\">\n",
       "            <thead> <tr style=\"text-align: right;\"> <th> <div class=\"djtooltip\">\n",
       "                            <p id=\"primary\">mouse_id</p>\n",
       "                            <span class=\"djtooltiptext\">unique mouse id, an integer</span>\n",
       "                        </div></th><th><div class=\"djtooltip\">\n",
       "                            <p id=\"nonprimary\">dob</p>\n",
       "                            <span class=\"djtooltiptext\">mouse date of birth, a date</span>\n",
       "                        </div></th><th><div class=\"djtooltip\">\n",
       "                            <p id=\"nonprimary\">sex_gonadal</p>\n",
       "                            <span class=\"djtooltiptext\">gonadal sex, male, female, intersex, unclassified or unknown</span>\n",
       "                        </div> </th> </tr> </thead>\n",
       "            <tbody> <tr> <td>2</td>\n",
       "<td>2022-08-10</td>\n",
       "<td>M</td> </tr> </tbody>\n",
       "        </table>\n",
       "        \n",
       "        <p>Total: 1</p></div>\n",
       "        "
      ],
      "text/plain": [
       "*mouse_id    dob            sex_gonadal   \n",
       "+----------+ +------------+ +------------+\n",
       "2            2022-08-10     M             \n",
       " (Total: 1)"
      ]
     },
     "execution_count": 62,
     "metadata": {},
     "output_type": "execute_result"
    }
   ],
   "source": [
    "# another way to fetch data\n",
    "sex, ids = mouse.fetch('sex_gonadal','mouse_id')\n",
    "print(sex, ids)\n",
    "\n",
    "mouse & 'sex_gonadal = \"M\"'"
   ]
  },
  {
   "cell_type": "code",
   "execution_count": 47,
   "id": "25745b6e",
   "metadata": {},
   "outputs": [],
   "source": [
    "# add users"
   ]
  },
  {
   "cell_type": "markdown",
   "id": "52544c28",
   "metadata": {},
   "source": [
    "## use elements\n",
    "https://www.youtube.com/watch?v=NRqpKNoHEY0 at 4:57\n",
    "want to have a workflow_session folder, with files including\n",
    "\n",
    "```\n",
    "__init__.py\n",
    "export.py\n",
    "ingest.py\n",
    "paths.py\n",
    "workflow.py\n",
    "version.py\n",
    "```\n",
    "\n",
    "and in workflow.py, it imports the multiple schemas using \n",
    "\n",
    "```\n",
    "import datajoint as dj\n",
    "from element_lab import lab\n",
    "\n",
    "if 'custom' not in dj.config:\n",
    "    dj.config['custom'] = {}\n",
    "    \n",
    "db_prefix = dj.config['custom']..get('database.prefix','')\n",
    "\n",
    "lab.activate(db_prefix + 'lab')\n",
    "```"
   ]
  },
  {
   "cell_type": "code",
   "execution_count": 68,
   "id": "23ee9d64",
   "metadata": {},
   "outputs": [],
   "source": [
    "# import elements\n",
    "from element_lab import lab"
   ]
  },
  {
   "cell_type": "code",
   "execution_count": 73,
   "id": "c2c83c15",
   "metadata": {},
   "outputs": [
    {
     "data": {
      "text/html": [
       "\n",
       "    \n",
       "    <style type=\"text/css\">\n",
       "        .Relation{\n",
       "            border-collapse:collapse;\n",
       "        }\n",
       "        .Relation th{\n",
       "            background: #A0A0A0; color: #ffffff; padding:4px; border:#f0e0e0 1px solid;\n",
       "            font-weight: normal; font-family: monospace; font-size: 100%;\n",
       "        }\n",
       "        .Relation td{\n",
       "            padding:4px; border:#f0e0e0 1px solid; font-size:100%;\n",
       "        }\n",
       "        .Relation tr:nth-child(odd){\n",
       "            background: #ffffff;\n",
       "        }\n",
       "        .Relation tr:nth-child(even){\n",
       "            background: #f3f1ff;\n",
       "        }\n",
       "        /* Tooltip container */\n",
       "        .djtooltip {\n",
       "        }\n",
       "        /* Tooltip text */\n",
       "        .djtooltip .djtooltiptext {\n",
       "            visibility: hidden;\n",
       "            width: 120px;\n",
       "            background-color: black;\n",
       "            color: #fff;\n",
       "            text-align: center;\n",
       "            padding: 5px 0;\n",
       "            border-radius: 6px;\n",
       "            /* Position the tooltip text - see examples below! */\n",
       "            position: absolute;\n",
       "            z-index: 1;\n",
       "        }\n",
       "        #primary {\n",
       "            font-weight: bold;\n",
       "            color: black;\n",
       "        }\n",
       "        #nonprimary {\n",
       "            font-weight: normal;\n",
       "            color: white;\n",
       "        }\n",
       "\n",
       "        /* Show the tooltip text when you mouse over the tooltip container */\n",
       "        .djtooltip:hover .djtooltiptext {\n",
       "            visibility: visible;\n",
       "        }\n",
       "    </style>\n",
       "    \n",
       "    <b></b>\n",
       "        <div style=\"max-height:1000px;max-width:1500px;overflow:auto;\">\n",
       "        <table border=\"1\" class=\"Relation\">\n",
       "            <thead> <tr style=\"text-align: right;\"> <th> <div class=\"djtooltip\">\n",
       "                            <p id=\"primary\">lab</p>\n",
       "                            <span class=\"djtooltiptext\">Abbreviated lab name</span>\n",
       "                        </div></th><th><div class=\"djtooltip\">\n",
       "                            <p id=\"nonprimary\">lab_name</p>\n",
       "                            <span class=\"djtooltiptext\">full lab name</span>\n",
       "                        </div></th><th><div class=\"djtooltip\">\n",
       "                            <p id=\"nonprimary\">institution</p>\n",
       "                            <span class=\"djtooltiptext\"></span>\n",
       "                        </div></th><th><div class=\"djtooltip\">\n",
       "                            <p id=\"nonprimary\">address</p>\n",
       "                            <span class=\"djtooltiptext\"></span>\n",
       "                        </div></th><th><div class=\"djtooltip\">\n",
       "                            <p id=\"nonprimary\">time_zone</p>\n",
       "                            <span class=\"djtooltiptext\">'UTC±X' format for NWB export</span>\n",
       "                        </div> </th> </tr> </thead>\n",
       "            <tbody> <tr>  </tr> </tbody>\n",
       "        </table>\n",
       "        \n",
       "        <p>Total: 0</p></div>\n",
       "        "
      ],
      "text/plain": [
       "*lab    lab_name     institution    address     time_zone    \n",
       "+-----+ +----------+ +------------+ +---------+ +-----------+\n",
       "\n",
       " (Total: 0)"
      ]
     },
     "execution_count": 73,
     "metadata": {},
     "output_type": "execute_result"
    }
   ],
   "source": [
    "lab.activate('schema')\n",
    "lab.Lab()"
   ]
  },
  {
   "cell_type": "code",
   "execution_count": null,
   "id": "333a1bb6",
   "metadata": {},
   "outputs": [],
   "source": [
    "# our data structure"
   ]
  }
 ],
 "metadata": {
  "kernelspec": {
   "display_name": "Python 3 (ipykernel)",
   "language": "python",
   "name": "python3"
  },
  "language_info": {
   "codemirror_mode": {
    "name": "ipython",
    "version": 3
   },
   "file_extension": ".py",
   "mimetype": "text/x-python",
   "name": "python",
   "nbconvert_exporter": "python",
   "pygments_lexer": "ipython3",
   "version": "3.10.5"
  }
 },
 "nbformat": 4,
 "nbformat_minor": 5
}
